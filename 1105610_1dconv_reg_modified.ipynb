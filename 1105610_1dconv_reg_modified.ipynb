{
  "nbformat": 4,
  "nbformat_minor": 0,
  "metadata": {
    "colab": {
      "name": "Untitled2.ipynb",
      "provenance": [],
      "collapsed_sections": []
    },
    "kernelspec": {
      "name": "python3",
      "display_name": "Python 3"
    },
    "accelerator": "GPU"
  },
  "cells": [
    {
      "cell_type": "code",
      "metadata": {
        "id": "poZBoiBwGEgR",
        "colab_type": "code",
        "outputId": "ec07a822-26fb-4a6c-9999-cada72e9c101",
        "colab": {
          "base_uri": "https://localhost:8080/",
          "height": 380
        }
      },
      "source": [
        "import pandas as pd\n",
        "import numpy as np\n",
        "import matplotlib.pyplot as plt\n",
        "from sklearn import linear_model\n",
        "from sklearn.model_selection import train_test_split\n",
        "from sklearn.metrics import mean_squared_error, r2_score\n",
        "\n",
        "#Loading Dataset\n",
        "dataset=pd.read_csv('/housing.csv')\n",
        "\n",
        "#Removing Missing values\n",
        "dataset=dataset.dropna()\n",
        "\n",
        "#Printing first 10 Data-set\n",
        "print('here are 10 dataset')\n",
        "dataset.head(10)\n",
        "\n",
        "\n",
        "\n",
        "\n",
        "\n"
      ],
      "execution_count": 2,
      "outputs": [
        {
          "output_type": "stream",
          "text": [
            "here are 10 dataset\n"
          ],
          "name": "stdout"
        },
        {
          "output_type": "execute_result",
          "data": {
            "text/html": [
              "<div>\n",
              "<style scoped>\n",
              "    .dataframe tbody tr th:only-of-type {\n",
              "        vertical-align: middle;\n",
              "    }\n",
              "\n",
              "    .dataframe tbody tr th {\n",
              "        vertical-align: top;\n",
              "    }\n",
              "\n",
              "    .dataframe thead th {\n",
              "        text-align: right;\n",
              "    }\n",
              "</style>\n",
              "<table border=\"1\" class=\"dataframe\">\n",
              "  <thead>\n",
              "    <tr style=\"text-align: right;\">\n",
              "      <th></th>\n",
              "      <th>longitude</th>\n",
              "      <th>latitude</th>\n",
              "      <th>housing_median_age</th>\n",
              "      <th>total_rooms</th>\n",
              "      <th>total_bedrooms</th>\n",
              "      <th>population</th>\n",
              "      <th>households</th>\n",
              "      <th>median_income</th>\n",
              "      <th>median_house_value</th>\n",
              "      <th>ocean_proximity</th>\n",
              "    </tr>\n",
              "  </thead>\n",
              "  <tbody>\n",
              "    <tr>\n",
              "      <th>0</th>\n",
              "      <td>-122.23</td>\n",
              "      <td>37.88</td>\n",
              "      <td>41.0</td>\n",
              "      <td>880.0</td>\n",
              "      <td>129.0</td>\n",
              "      <td>322.0</td>\n",
              "      <td>126.0</td>\n",
              "      <td>8.3252</td>\n",
              "      <td>452600.0</td>\n",
              "      <td>NEAR BAY</td>\n",
              "    </tr>\n",
              "    <tr>\n",
              "      <th>1</th>\n",
              "      <td>-122.22</td>\n",
              "      <td>37.86</td>\n",
              "      <td>21.0</td>\n",
              "      <td>7099.0</td>\n",
              "      <td>1106.0</td>\n",
              "      <td>2401.0</td>\n",
              "      <td>1138.0</td>\n",
              "      <td>8.3014</td>\n",
              "      <td>358500.0</td>\n",
              "      <td>NEAR BAY</td>\n",
              "    </tr>\n",
              "    <tr>\n",
              "      <th>2</th>\n",
              "      <td>-122.24</td>\n",
              "      <td>37.85</td>\n",
              "      <td>52.0</td>\n",
              "      <td>1467.0</td>\n",
              "      <td>190.0</td>\n",
              "      <td>496.0</td>\n",
              "      <td>177.0</td>\n",
              "      <td>7.2574</td>\n",
              "      <td>352100.0</td>\n",
              "      <td>NEAR BAY</td>\n",
              "    </tr>\n",
              "    <tr>\n",
              "      <th>3</th>\n",
              "      <td>-122.25</td>\n",
              "      <td>37.85</td>\n",
              "      <td>52.0</td>\n",
              "      <td>1274.0</td>\n",
              "      <td>235.0</td>\n",
              "      <td>558.0</td>\n",
              "      <td>219.0</td>\n",
              "      <td>5.6431</td>\n",
              "      <td>341300.0</td>\n",
              "      <td>NEAR BAY</td>\n",
              "    </tr>\n",
              "    <tr>\n",
              "      <th>4</th>\n",
              "      <td>-122.25</td>\n",
              "      <td>37.85</td>\n",
              "      <td>52.0</td>\n",
              "      <td>1627.0</td>\n",
              "      <td>280.0</td>\n",
              "      <td>565.0</td>\n",
              "      <td>259.0</td>\n",
              "      <td>3.8462</td>\n",
              "      <td>342200.0</td>\n",
              "      <td>NEAR BAY</td>\n",
              "    </tr>\n",
              "    <tr>\n",
              "      <th>5</th>\n",
              "      <td>-122.25</td>\n",
              "      <td>37.85</td>\n",
              "      <td>52.0</td>\n",
              "      <td>919.0</td>\n",
              "      <td>213.0</td>\n",
              "      <td>413.0</td>\n",
              "      <td>193.0</td>\n",
              "      <td>4.0368</td>\n",
              "      <td>269700.0</td>\n",
              "      <td>NEAR BAY</td>\n",
              "    </tr>\n",
              "    <tr>\n",
              "      <th>6</th>\n",
              "      <td>-122.25</td>\n",
              "      <td>37.84</td>\n",
              "      <td>52.0</td>\n",
              "      <td>2535.0</td>\n",
              "      <td>489.0</td>\n",
              "      <td>1094.0</td>\n",
              "      <td>514.0</td>\n",
              "      <td>3.6591</td>\n",
              "      <td>299200.0</td>\n",
              "      <td>NEAR BAY</td>\n",
              "    </tr>\n",
              "    <tr>\n",
              "      <th>7</th>\n",
              "      <td>-122.25</td>\n",
              "      <td>37.84</td>\n",
              "      <td>52.0</td>\n",
              "      <td>3104.0</td>\n",
              "      <td>687.0</td>\n",
              "      <td>1157.0</td>\n",
              "      <td>647.0</td>\n",
              "      <td>3.1200</td>\n",
              "      <td>241400.0</td>\n",
              "      <td>NEAR BAY</td>\n",
              "    </tr>\n",
              "    <tr>\n",
              "      <th>8</th>\n",
              "      <td>-122.26</td>\n",
              "      <td>37.84</td>\n",
              "      <td>42.0</td>\n",
              "      <td>2555.0</td>\n",
              "      <td>665.0</td>\n",
              "      <td>1206.0</td>\n",
              "      <td>595.0</td>\n",
              "      <td>2.0804</td>\n",
              "      <td>226700.0</td>\n",
              "      <td>NEAR BAY</td>\n",
              "    </tr>\n",
              "    <tr>\n",
              "      <th>9</th>\n",
              "      <td>-122.25</td>\n",
              "      <td>37.84</td>\n",
              "      <td>52.0</td>\n",
              "      <td>3549.0</td>\n",
              "      <td>707.0</td>\n",
              "      <td>1551.0</td>\n",
              "      <td>714.0</td>\n",
              "      <td>3.6912</td>\n",
              "      <td>261100.0</td>\n",
              "      <td>NEAR BAY</td>\n",
              "    </tr>\n",
              "  </tbody>\n",
              "</table>\n",
              "</div>"
            ],
            "text/plain": [
              "   longitude  latitude  ...  median_house_value  ocean_proximity\n",
              "0    -122.23     37.88  ...            452600.0         NEAR BAY\n",
              "1    -122.22     37.86  ...            358500.0         NEAR BAY\n",
              "2    -122.24     37.85  ...            352100.0         NEAR BAY\n",
              "3    -122.25     37.85  ...            341300.0         NEAR BAY\n",
              "4    -122.25     37.85  ...            342200.0         NEAR BAY\n",
              "5    -122.25     37.85  ...            269700.0         NEAR BAY\n",
              "6    -122.25     37.84  ...            299200.0         NEAR BAY\n",
              "7    -122.25     37.84  ...            241400.0         NEAR BAY\n",
              "8    -122.26     37.84  ...            226700.0         NEAR BAY\n",
              "9    -122.25     37.84  ...            261100.0         NEAR BAY\n",
              "\n",
              "[10 rows x 10 columns]"
            ]
          },
          "metadata": {
            "tags": []
          },
          "execution_count": 2
        }
      ]
    },
    {
      "cell_type": "code",
      "metadata": {
        "id": "adGyHf2-OGy3",
        "colab_type": "code",
        "colab": {}
      },
      "source": [
        "#getting x and y co-ordinate\n",
        "Y=dataset['median_house_value']\n",
        "X=dataset.loc[:,'longitude':'median_income']\n",
        "\n",
        "#Splitting dataset into 70:30. 70% is for training is for training and 30% dataset is for testing\n",
        "x_train,x_test,y_train,y_test=train_test_split(X,Y,test_size=0.3)\n",
        "\n",
        "\n",
        "#Converting dataset to arrays\n",
        "x_train_np=x_train.to_numpy()\n",
        "y_train_np=y_train.to_numpy()\n",
        "\n",
        "\n",
        "x_test_np=x_test.to_numpy()\n",
        "y_test_np=y_test.to_numpy()"
      ],
      "execution_count": 0,
      "outputs": []
    },
    {
      "cell_type": "code",
      "metadata": {
        "id": "_pozz5_COIkx",
        "colab_type": "code",
        "outputId": "a8a8c02d-1f22-47d2-c78c-41dbe22aa129",
        "colab": {
          "base_uri": "https://localhost:8080/",
          "height": 311
        }
      },
      "source": [
        "#plotting first 25 dataset (Coloums) of each dataset on graph\n",
        "fig, (ax1, ax2, ax3, ax4, ax5, ax6, ax7, ax8, ax9, ax10) = plt.subplots(10)\n",
        "fig.suptitle('subplots')\n",
        "lst = [i for i in range(25)]\n",
        "\n",
        "ax1.plot(lst, dataset['longitude'][0:25],color='red',label='longitude')\n",
        "ax2.plot(lst, dataset['latitude'][0:25],color='blue')\n",
        "ax3.plot(lst, dataset['housing_median_age'][0:25],color='grey')\n",
        "ax4.plot(lst, dataset['total_rooms'][0:25],color='purple')\n",
        "ax5.plot(lst, dataset['total_bedrooms'][0:25], color='yellow')\n",
        "ax6.plot(lst,dataset['population'][0:25],color = 'pink')\n",
        "ax7.plot(lst, dataset['households'][0:25],color='green')\n",
        "ax8.plot(lst, dataset['median_income'][0:25],color='brown')\n",
        "ax9.plot(lst, dataset['median_house_value'][0:25],color='violet')\n",
        "ax10.plot(lst, dataset['ocean_proximity'][0:25],color='white')"
      ],
      "execution_count": 4,
      "outputs": [
        {
          "output_type": "execute_result",
          "data": {
            "text/plain": [
              "[<matplotlib.lines.Line2D at 0x7f79fce6afd0>]"
            ]
          },
          "metadata": {
            "tags": []
          },
          "execution_count": 4
        },
        {
          "output_type": "display_data",
          "data": {
            "image/png": "[encoded data removed]",
            "text/plain": [
              "<Figure size 432x288 with 10 Axes>"
            ]
          },
          "metadata": {
            "tags": []
          }
        }
      ]
    },
    {
      "cell_type": "code",
      "metadata": {
        "id": "yfsN9cZnGKQj",
        "colab_type": "code",
        "colab": {}
      },
      "source": [
        "# Initializing a network\n",
        "\n",
        "import torch\n",
        "import torch.optim\n",
        "from torch.nn import Conv1d\n",
        "from torch.nn import MaxPool1d\n",
        "from torch.nn import Linear\n",
        "from torch.nn import Flatten\n",
        "from torch.nn.functional import relu\n",
        "from torch.utils.data import DataLoader, TensorDataset\n",
        "\n",
        "class CnnRegressor(torch.nn.Module):\n",
        "  def __init__(self,btach_size,inputs, outputs):\n",
        "    super(CnnRegressor, self).__init__()\n",
        "    self.batch_size = batch_size\n",
        "    self.inputs = inputs\n",
        "    self.outputs = outputs\n",
        "\n",
        "    self.input_layer = Conv1d(inputs, batch_size, 1)\n",
        "\n",
        "    self.max_pooling_layer = MaxPool1d(1)\n",
        "    self.conv_layer = Conv1d(batch_size, 128, 1)\n",
        "    \n",
        "    self.max_pooling_layer_1 = MaxPool1d(1)\n",
        "    self.conv_layer_1 = Conv1d(128, 128, 1)\n",
        "    \n",
        "    \n",
        "    \n",
        "    self.flatten_layer = Flatten()\n",
        "    self.linear_layer = Linear(128, 64)\n",
        "    self.output_layer = Linear(64, outputs)\n",
        "  \n",
        "  def feed(self,input):\n",
        "    input = input.reshape((self.batch_size, self.inputs, 1))\n",
        "    output = relu(self.input_layer(input))\n",
        "    output = self.max_pooling_layer(output)\n",
        "    output= relu(self.conv_layer(output))\n",
        "\n",
        "    output = self.max_pooling_layer_1(output)\n",
        "    output= relu(self.conv_layer_1(output))\n",
        "\n",
        "  \n",
        "\n",
        "    output = self.flatten_layer(output)\n",
        "    output = self.linear_layer(output)\n",
        "    output = self.output_layer(output)\n",
        "    return output"
      ],
      "execution_count": 0,
      "outputs": []
    },
    {
      "cell_type": "code",
      "metadata": {
        "id": "4CKnNFkOGMc2",
        "colab_type": "code",
        "outputId": "27e2032c-b49d-4913-dece-cc75b906cde3",
        "colab": {
          "base_uri": "https://localhost:8080/",
          "height": 138
        }
      },
      "source": [
        "#Training model\n",
        "\n",
        "from torch.optim import Adam\n",
        "from torch.nn import CTCLoss\n",
        "from torch.nn import L1Loss\n",
        "\n",
        "!pip install pytorch-ignite\n",
        "from ignite.contrib.metrics.regression.r2_score import R2Score\n",
        "\n",
        "#define Model\n",
        "\n",
        "batch_size=64 #dont go high error would be insane\n",
        "\n",
        "model=CnnRegressor(batch_size,X.shape[1],1)\n",
        "model.cuda()\n",
        "\n",
        "def model_loss(model, dataset, train=False, optimizer=None):\n",
        "  performance=L1Loss()\n",
        "  score_metric=R2Score()\n",
        "\n",
        "  avg_loss=0\n",
        "  avg_score=0\n",
        "  count=0\n",
        "\n",
        "  for input, output in iter(dataset):\n",
        "    prediction=model.feed(input)\n",
        "    loss=performance(prediction,output)\n",
        "    score_metric.update([prediction,output])\n",
        "    score=score_metric.compute()\n",
        "    \n",
        "\n",
        "    if(train):\n",
        "      optimizer.zero_grad()\n",
        "      loss.backward()\n",
        "      optimizer.step()\n",
        "\n",
        "    avg_loss+=loss.item()\n",
        "    avg_score+=score\n",
        "    count+=1\n",
        "\n",
        "  return avg_loss / count, avg_score / count "
      ],
      "execution_count": 6,
      "outputs": [
        {
          "output_type": "stream",
          "text": [
            "Collecting pytorch-ignite\n",
            "\u001b[?25l  Downloading https://files.pythonhosted.org/packages/07/5a/1f9bb05b3b93a2ac911b2d7d869abbd4078544f884375cf13b5c9c2e6be8/pytorch_ignite-0.4.0-py2.py3-none-any.whl (116kB)\n",
            "\r\u001b[K     |██▉                             | 10kB 22.4MB/s eta 0:00:01\r\u001b[K     |█████▋                          | 20kB 28.1MB/s eta 0:00:01\r\u001b[K     |████████▌                       | 30kB 32.6MB/s eta 0:00:01\r\u001b[K     |███████████▎                    | 40kB 36.3MB/s eta 0:00:01\r\u001b[K     |██████████████                  | 51kB 37.9MB/s eta 0:00:01\r\u001b[K     |█████████████████               | 61kB 39.7MB/s eta 0:00:01\r\u001b[K     |███████████████████▊            | 71kB 40.4MB/s eta 0:00:01\r\u001b[K     |██████████████████████▌         | 81kB 41.4MB/s eta 0:00:01\r\u001b[K     |█████████████████████████▍      | 92kB 43.0MB/s eta 0:00:01\r\u001b[K     |████████████████████████████▏   | 102kB 44.4MB/s eta 0:00:01\r\u001b[K     |███████████████████████████████ | 112kB 44.4MB/s eta 0:00:01\r\u001b[K     |████████████████████████████████| 122kB 44.4MB/s \n",
            "\u001b[?25hRequirement already satisfied: torch in /usr/local/lib/python3.6/dist-packages (from pytorch-ignite) (1.4.0)\n",
            "Installing collected packages: pytorch-ignite\n",
            "Successfully installed pytorch-ignite-0.4.0\n"
          ],
          "name": "stdout"
        }
      ]
    },
    {
      "cell_type": "code",
      "metadata": {
        "id": "LCg2Jz8WGQKR",
        "colab_type": "code",
        "colab": {}
      },
      "source": [
        "import time\n",
        "\n",
        "\n",
        "\n",
        "\n",
        "epochs=637\n",
        "#optimizer=ASGD(model.parameters(),lr=0.000001,lambd=0.0001, alpha=0.50)\n",
        "#optimizer=Rprop(model.parameters(), lr=0.0000009, etas=(0.2, 1.2), step_sizes=(1e-05, 50))\n",
        "optimizer=Adam(model.parameters())\n",
        "inputs = torch.from_numpy(x_train_np).cuda().float()\n",
        "outputs = torch.from_numpy(y_train_np.reshape(y_train_np.shape[0],1)).cuda().float()\n",
        "\n",
        "tensor=TensorDataset(inputs,outputs)\n",
        "loader=DataLoader(tensor, batch_size, shuffle=True, drop_last=True)\n",
        "begin=time.time()\n",
        "for epoch in range(epochs):\n",
        "  avg_loss, avg_r2_score= model_loss(model,loader,train=True,optimizer=optimizer)\n",
        "\n",
        "  print(\"epoch\" + str(epoch+1)+\":\\ntloss = \"+ str(avg_loss)+\"\\n\\tR^2 Score= \"+ str(avg_r2_score))\n",
        "\n",
        "\n",
        "\n",
        "\n"
      ],
      "execution_count": 0,
      "outputs": []
    },
    {
      "cell_type": "markdown",
      "metadata": {
        "id": "3XiHSdycieMY",
        "colab_type": "text"
      },
      "source": [
        "# New Section"
      ]
    },
    {
      "cell_type": "code",
      "metadata": {
        "id": "cVTWx_4sZ5NF",
        "colab_type": "code",
        "outputId": "f728165c-5242-43de-cdd3-78353a0737af",
        "colab": {
          "base_uri": "https://localhost:8080/",
          "height": 67
        }
      },
      "source": [
        "inputs=torch.from_numpy(x_test_np).cuda().float()\n",
        "outputs=torch.from_numpy(y_test_np.reshape(y_test_np.shape[0],1)).cuda().float()\n",
        "\n",
        "tensor=TensorDataset(inputs,outputs)\n",
        "loader=DataLoader(tensor, batch_size, shuffle=True, drop_last=True)\n",
        "\n",
        "avg_loss, avg_r2_score=model_loss(model,loader)\n",
        "end=time.time()\n",
        "print(\"the model's L1 loss is:\" + str(avg_loss) )\n",
        "print(\"the model's R^2 score is: \"+ str(avg_r2_score))\n",
        "print(\"Overall Time : \" + str(end-begin))"
      ],
      "execution_count": 8,
      "outputs": [
        {
          "output_type": "stream",
          "text": [
            "the model's L1 loss is:45278.60828536184\n",
            "the model's R^2 score is: 0.696324726943237\n",
            "Overall Time : 474.5450975894928\n"
          ],
          "name": "stdout"
        }
      ]
    },
    {
      "cell_type": "code",
      "metadata": {
        "id": "o_DOaxvnj7un",
        "colab_type": "code",
        "colab": {}
      },
      "source": [
        "model_save_name = '1105610_1dconv_reg.pt'\n",
        "path = \"/content/drive/My Drive/1105610_1dconv_reg.pt\" \n",
        "torch.save(model.state_dict(), path)\n"
      ],
      "execution_count": 0,
      "outputs": []
    }
  ]
}